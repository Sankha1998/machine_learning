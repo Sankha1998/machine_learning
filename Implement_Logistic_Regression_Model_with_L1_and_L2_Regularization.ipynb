{
  "nbformat": 4,
  "nbformat_minor": 0,
  "metadata": {
    "colab": {
      "name": "Implement Logistic Regression Model with L1 and L2 Regularization.ipynb",
      "provenance": [],
      "collapsed_sections": [],
      "authorship_tag": "ABX9TyNojJqUmv5n3KLbVAQtHJmq",
      "include_colab_link": true
    },
    "kernelspec": {
      "name": "python3",
      "display_name": "Python 3"
    }
  },
  "cells": [
    {
      "cell_type": "markdown",
      "metadata": {
        "id": "view-in-github",
        "colab_type": "text"
      },
      "source": [
        "<a href=\"https://colab.research.google.com/github/Sankha1998/machine_learning/blob/master/Implement_Logistic_Regression_Model_with_L1_and_L2_Regularization.ipynb\" target=\"_parent\"><img src=\"https://colab.research.google.com/assets/colab-badge.svg\" alt=\"Open In Colab\"/></a>"
      ]
    },
    {
      "cell_type": "code",
      "metadata": {
        "id": "dhSvdMfUx6Ch",
        "colab_type": "code",
        "colab": {}
      },
      "source": [
        "import pandas as pd\n",
        "import numpy as np"
      ],
      "execution_count": 1,
      "outputs": []
    },
    {
      "cell_type": "code",
      "metadata": {
        "id": "X6pZbDcAx3AV",
        "colab_type": "code",
        "colab": {}
      },
      "source": [
        "data = pd.read_csv(\"dataset.txt\")"
      ],
      "execution_count": 2,
      "outputs": []
    },
    {
      "cell_type": "code",
      "metadata": {
        "id": "W01vzvSRx7l9",
        "colab_type": "code",
        "colab": {
          "base_uri": "https://localhost:8080/",
          "height": 206
        },
        "outputId": "e2856f69-99be-431c-9a91-9d252f685b7a"
      },
      "source": [
        "data.head()"
      ],
      "execution_count": 3,
      "outputs": [
        {
          "output_type": "execute_result",
          "data": {
            "text/html": [
              "<div>\n",
              "<style scoped>\n",
              "    .dataframe tbody tr th:only-of-type {\n",
              "        vertical-align: middle;\n",
              "    }\n",
              "\n",
              "    .dataframe tbody tr th {\n",
              "        vertical-align: top;\n",
              "    }\n",
              "\n",
              "    .dataframe thead th {\n",
              "        text-align: right;\n",
              "    }\n",
              "</style>\n",
              "<table border=\"1\" class=\"dataframe\">\n",
              "  <thead>\n",
              "    <tr style=\"text-align: right;\">\n",
              "      <th></th>\n",
              "      <th>Marks_1</th>\n",
              "      <th>Marks_2</th>\n",
              "      <th>Result</th>\n",
              "    </tr>\n",
              "  </thead>\n",
              "  <tbody>\n",
              "    <tr>\n",
              "      <th>0</th>\n",
              "      <td>34.623660</td>\n",
              "      <td>78.024693</td>\n",
              "      <td>0</td>\n",
              "    </tr>\n",
              "    <tr>\n",
              "      <th>1</th>\n",
              "      <td>30.286711</td>\n",
              "      <td>43.894998</td>\n",
              "      <td>0</td>\n",
              "    </tr>\n",
              "    <tr>\n",
              "      <th>2</th>\n",
              "      <td>35.847409</td>\n",
              "      <td>72.902198</td>\n",
              "      <td>0</td>\n",
              "    </tr>\n",
              "    <tr>\n",
              "      <th>3</th>\n",
              "      <td>60.182599</td>\n",
              "      <td>86.308552</td>\n",
              "      <td>1</td>\n",
              "    </tr>\n",
              "    <tr>\n",
              "      <th>4</th>\n",
              "      <td>79.032736</td>\n",
              "      <td>75.344376</td>\n",
              "      <td>1</td>\n",
              "    </tr>\n",
              "  </tbody>\n",
              "</table>\n",
              "</div>"
            ],
            "text/plain": [
              "     Marks_1    Marks_2  Result\n",
              "0  34.623660  78.024693       0\n",
              "1  30.286711  43.894998       0\n",
              "2  35.847409  72.902198       0\n",
              "3  60.182599  86.308552       1\n",
              "4  79.032736  75.344376       1"
            ]
          },
          "metadata": {
            "tags": []
          },
          "execution_count": 3
        }
      ]
    },
    {
      "cell_type": "code",
      "metadata": {
        "id": "d_Nyi9ORyVNn",
        "colab_type": "code",
        "colab": {}
      },
      "source": [
        "x = np.array(data.iloc[:,:2].values)\n",
        "y = np.array(data.iloc[:,-1].values)"
      ],
      "execution_count": 4,
      "outputs": []
    },
    {
      "cell_type": "code",
      "metadata": {
        "id": "CSd3zLLhyVV7",
        "colab_type": "code",
        "colab": {
          "base_uri": "https://localhost:8080/",
          "height": 111
        },
        "outputId": "27e5048d-9e06-4886-d73a-3f0b47003510"
      },
      "source": [
        "y"
      ],
      "execution_count": 5,
      "outputs": [
        {
          "output_type": "execute_result",
          "data": {
            "text/plain": [
              "array([0, 0, 0, 1, 1, 0, 1, 1, 1, 1, 0, 0, 1, 1, 0, 1, 1, 0, 1, 1, 0, 1,\n",
              "       0, 0, 1, 1, 1, 0, 0, 0, 1, 1, 0, 1, 0, 0, 0, 1, 0, 0, 1, 0, 1, 0,\n",
              "       0, 0, 1, 1, 1, 1, 1, 1, 1, 0, 0, 0, 1, 0, 1, 1, 1, 0, 0, 0, 0, 0,\n",
              "       1, 0, 1, 1, 0, 1, 1, 1, 1, 1, 1, 1, 0, 0, 1, 1, 1, 1, 1, 1, 0, 1,\n",
              "       1, 0, 1, 1, 0, 1, 1, 1, 1, 1, 1, 1])"
            ]
          },
          "metadata": {
            "tags": []
          },
          "execution_count": 5
        }
      ]
    },
    {
      "cell_type": "code",
      "metadata": {
        "id": "EzmmJBYZyVRd",
        "colab_type": "code",
        "colab": {}
      },
      "source": [
        "def fit(x, y): ## for lasso \n",
        "  lr = 0.001 \n",
        "  iteration = 100000\n",
        "  n, n_features = x.shape  \n",
        "  w = np.zeros(n_features)\n",
        "  b = 0\n",
        "  lambd_a = 100\n",
        "  for _ in range(iteration):\n",
        "      p=(lambd_a/(2*n)*sum(w)) ## updated cost function\n",
        "      eq = (np.dot(x, w) + b) + p\n",
        "\n",
        "      y_pred = 1 / (1 + np.exp(-eq)) ##sigmoid\n",
        "\n",
        "      wbar = (1 / n) * np.dot(x.T, (y_pred - y)) \n",
        "      bbar = ((1 / n) * np.sum(y_pred - y))\n",
        "    \n",
        "      w = w -(lr * wbar)\n",
        "      b = b - (lr * bbar)\n",
        "  return (w,b)"
      ],
      "execution_count": 74,
      "outputs": []
    },
    {
      "cell_type": "code",
      "metadata": {
        "id": "B-pm5Vqc268B",
        "colab_type": "code",
        "colab": {}
      },
      "source": [
        " w,b=fit(x, y)"
      ],
      "execution_count": 75,
      "outputs": []
    },
    {
      "cell_type": "code",
      "metadata": {
        "id": "KQ3q2KBX0FBR",
        "colab_type": "code",
        "colab": {}
      },
      "source": [
        "def predict(x_t):\n",
        " \n",
        "  w,b=fit(x, y)\n",
        "  e = np.dot(x_t,w) + b \n",
        "  y_pred = 1 / (1 + np.exp(-e))\n",
        "  y_cls = [1 if i > 0.5 else 0 for i in y_pred]\n",
        "  return np.array(y_cls)"
      ],
      "execution_count": 76,
      "outputs": []
    },
    {
      "cell_type": "code",
      "metadata": {
        "id": "J2WWjKk81vmE",
        "colab_type": "code",
        "colab": {}
      },
      "source": [
        "h = np.array([[34.62366 , 78.024693]])"
      ],
      "execution_count": 77,
      "outputs": []
    },
    {
      "cell_type": "code",
      "metadata": {
        "id": "cv2XraVS1yQW",
        "colab_type": "code",
        "colab": {
          "base_uri": "https://localhost:8080/",
          "height": 36
        },
        "outputId": "72839a49-f073-486a-fb1d-b3c1e74a5ba0"
      },
      "source": [
        "predict(h)"
      ],
      "execution_count": 78,
      "outputs": [
        {
          "output_type": "execute_result",
          "data": {
            "text/plain": [
              "array([0])"
            ]
          },
          "metadata": {
            "tags": []
          },
          "execution_count": 78
        }
      ]
    },
    {
      "cell_type": "code",
      "metadata": {
        "id": "5oPpk6fy8vD7",
        "colab_type": "code",
        "colab": {}
      },
      "source": [
        "h = np.array([[79.032736 ,\t175.344376]])"
      ],
      "execution_count": 79,
      "outputs": []
    },
    {
      "cell_type": "code",
      "metadata": {
        "id": "sG9pdwjK9rr1",
        "colab_type": "code",
        "colab": {
          "base_uri": "https://localhost:8080/",
          "height": 36
        },
        "outputId": "4b793454-79c2-4212-aa70-642d441b7159"
      },
      "source": [
        "predict(h)"
      ],
      "execution_count": 80,
      "outputs": [
        {
          "output_type": "execute_result",
          "data": {
            "text/plain": [
              "array([1])"
            ]
          },
          "metadata": {
            "tags": []
          },
          "execution_count": 80
        }
      ]
    },
    {
      "cell_type": "code",
      "metadata": {
        "id": "f9TmSG0iAvfT",
        "colab_type": "code",
        "colab": {}
      },
      "source": [
        "def fit(x, y): ## for ridge\n",
        "  lr = 0.001 \n",
        "  iteration = 100000\n",
        "  n, n_features = x.shape  \n",
        "  w = np.zeros(n_features)\n",
        "  b = 0\n",
        "  lambd_a = 100\n",
        "  for _ in range(iteration):\n",
        "      p=(lambd_a/(2*n)*sum(w**2)) ## updated cost function\n",
        "      eq = (np.dot(x, w) + b) + p\n",
        "\n",
        "      y_pred = 1 / (1 + np.exp(-eq)) ##sigmoid\n",
        "\n",
        "      wbar = (1 / n) * np.dot(x.T, (y_pred - y)) \n",
        "      bbar = ((1 / n) * np.sum(y_pred - y))\n",
        "    \n",
        "      w = w -(lr * wbar)\n",
        "      b = b - (lr * bbar)\n",
        "  return (w,b)"
      ],
      "execution_count": 86,
      "outputs": []
    },
    {
      "cell_type": "code",
      "metadata": {
        "id": "U5HbuTlWAVUA",
        "colab_type": "code",
        "colab": {}
      },
      "source": [
        "def predict(x_t):\n",
        " \n",
        "  w,b=fit(x, y)\n",
        "  e = np.dot(x_t,w) + b \n",
        "  y_pred = 1 / (1 + np.exp(-e))\n",
        "  y_cls = [1 if i > 0.5 else 0 for i in y_pred]\n",
        "  return np.array(y_cls)"
      ],
      "execution_count": 87,
      "outputs": []
    },
    {
      "cell_type": "code",
      "metadata": {
        "id": "5Q1IFRddBI1A",
        "colab_type": "code",
        "colab": {}
      },
      "source": [
        "h= \tnp.array([[35.847409,72.902198]])"
      ],
      "execution_count": 110,
      "outputs": []
    },
    {
      "cell_type": "code",
      "metadata": {
        "id": "TKsSixViBWkQ",
        "colab_type": "code",
        "colab": {
          "base_uri": "https://localhost:8080/",
          "height": 36
        },
        "outputId": "b995ac3e-840f-4968-a6ae-321450ecd709"
      },
      "source": [
        "predict(h)"
      ],
      "execution_count": 89,
      "outputs": [
        {
          "output_type": "execute_result",
          "data": {
            "text/plain": [
              "array([0])"
            ]
          },
          "metadata": {
            "tags": []
          },
          "execution_count": 89
        }
      ]
    },
    {
      "cell_type": "code",
      "metadata": {
        "id": "YJwhA36zBYoQ",
        "colab_type": "code",
        "colab": {
          "base_uri": "https://localhost:8080/",
          "height": 206
        },
        "outputId": "40135edc-cff7-4306-d7b8-1806dd928051"
      },
      "source": [
        "data.tail()"
      ],
      "execution_count": 90,
      "outputs": [
        {
          "output_type": "execute_result",
          "data": {
            "text/html": [
              "<div>\n",
              "<style scoped>\n",
              "    .dataframe tbody tr th:only-of-type {\n",
              "        vertical-align: middle;\n",
              "    }\n",
              "\n",
              "    .dataframe tbody tr th {\n",
              "        vertical-align: top;\n",
              "    }\n",
              "\n",
              "    .dataframe thead th {\n",
              "        text-align: right;\n",
              "    }\n",
              "</style>\n",
              "<table border=\"1\" class=\"dataframe\">\n",
              "  <thead>\n",
              "    <tr style=\"text-align: right;\">\n",
              "      <th></th>\n",
              "      <th>Marks_1</th>\n",
              "      <th>Marks_2</th>\n",
              "      <th>Result</th>\n",
              "    </tr>\n",
              "  </thead>\n",
              "  <tbody>\n",
              "    <tr>\n",
              "      <th>95</th>\n",
              "      <td>83.489163</td>\n",
              "      <td>48.380286</td>\n",
              "      <td>1</td>\n",
              "    </tr>\n",
              "    <tr>\n",
              "      <th>96</th>\n",
              "      <td>42.261701</td>\n",
              "      <td>87.103851</td>\n",
              "      <td>1</td>\n",
              "    </tr>\n",
              "    <tr>\n",
              "      <th>97</th>\n",
              "      <td>99.315009</td>\n",
              "      <td>68.775409</td>\n",
              "      <td>1</td>\n",
              "    </tr>\n",
              "    <tr>\n",
              "      <th>98</th>\n",
              "      <td>55.340018</td>\n",
              "      <td>64.931938</td>\n",
              "      <td>1</td>\n",
              "    </tr>\n",
              "    <tr>\n",
              "      <th>99</th>\n",
              "      <td>74.775893</td>\n",
              "      <td>89.529813</td>\n",
              "      <td>1</td>\n",
              "    </tr>\n",
              "  </tbody>\n",
              "</table>\n",
              "</div>"
            ],
            "text/plain": [
              "      Marks_1    Marks_2  Result\n",
              "95  83.489163  48.380286       1\n",
              "96  42.261701  87.103851       1\n",
              "97  99.315009  68.775409       1\n",
              "98  55.340018  64.931938       1\n",
              "99  74.775893  89.529813       1"
            ]
          },
          "metadata": {
            "tags": []
          },
          "execution_count": 90
        }
      ]
    },
    {
      "cell_type": "code",
      "metadata": {
        "id": "7HvHFuT4BdRS",
        "colab_type": "code",
        "colab": {}
      },
      "source": [
        "h = np.array(data.iloc[-1,[0,1]].values).reshape(1,2)"
      ],
      "execution_count": 113,
      "outputs": []
    },
    {
      "cell_type": "code",
      "metadata": {
        "id": "Cl1ztrPFB7El",
        "colab_type": "code",
        "colab": {
          "base_uri": "https://localhost:8080/",
          "height": 36
        },
        "outputId": "4a554367-bf6c-420b-9f30-b50c6f9d7ca3"
      },
      "source": [
        "h"
      ],
      "execution_count": 115,
      "outputs": [
        {
          "output_type": "execute_result",
          "data": {
            "text/plain": [
              "array([[74.775893 , 89.5298129]])"
            ]
          },
          "metadata": {
            "tags": []
          },
          "execution_count": 115
        }
      ]
    },
    {
      "cell_type": "code",
      "metadata": {
        "id": "oZziuDGcBjHC",
        "colab_type": "code",
        "colab": {
          "base_uri": "https://localhost:8080/",
          "height": 36
        },
        "outputId": "25eb66dd-c062-4ee6-9dd6-de9e3016eb45"
      },
      "source": [
        "predict(h)"
      ],
      "execution_count": 116,
      "outputs": [
        {
          "output_type": "execute_result",
          "data": {
            "text/plain": [
              "array([1])"
            ]
          },
          "metadata": {
            "tags": []
          },
          "execution_count": 116
        }
      ]
    },
    {
      "cell_type": "code",
      "metadata": {
        "id": "mGscP894B3zB",
        "colab_type": "code",
        "colab": {}
      },
      "source": [
        ""
      ],
      "execution_count": null,
      "outputs": []
    }
  ]
}